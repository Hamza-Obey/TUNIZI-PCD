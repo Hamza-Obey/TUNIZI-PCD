{
 "cells": [
  {
   "cell_type": "code",
   "execution_count": 5,
   "metadata": {},
   "outputs": [],
   "source": [
    "import pickle\n",
    "import json\n",
    "import pandas as pd\n",
    "def calcul(filename):\n",
    "    pickled_model = pickle.load(open('../IA/finalized_model.pkl', 'rb'))\n",
    "    vectorizer = pickle.load(open(\"../IA/vectorizer.pkl\", 'rb'))\n",
    "    test=pd.read_csv(\"../uploads/{}\".format(filename))\n",
    "    \n",
    "    \n",
    "\n",
    "\n",
    "    pos = 0\n",
    "    neg = 0\n",
    "    for text in test[\"text\"]:\n",
    "\n",
    "        textinput1 = vectorizer.transform([text])\n",
    "# (document id,tokens_id)       tf-idf score of a given token in a given document\n",
    "\n",
    "        svm_test = pickled_model.predict(textinput1)\n",
    "        svm_test = svm_test-1\n",
    "        if svm_test == 1:\n",
    "            pos += 1\n",
    "        else:\n",
    "            neg += 1\n",
    "    x = {\n",
    "    \"positive\": pos,\n",
    "    \"neg\": neg\n",
    "    }\n",
    "    result = json.dumps(x)\n",
    "    return(result)"
   ]
  },
  {
   "cell_type": "code",
   "execution_count": 6,
   "metadata": {},
   "outputs": [
    {
     "data": {
      "text/plain": [
       "'{\"positive\": 14436, \"neg\": 15564}'"
      ]
     },
     "execution_count": 6,
     "metadata": {},
     "output_type": "execute_result"
    }
   ],
   "source": [
    "calcul(\"Test.csv\")"
   ]
  },
  {
   "cell_type": "code",
   "execution_count": null,
   "metadata": {},
   "outputs": [],
   "source": []
  }
 ],
 "metadata": {
  "interpreter": {
   "hash": "6459a9ff623c0164109f7651345b6e32190aea954771bcf073052b42212a36a0"
  },
  "kernelspec": {
   "display_name": "Python 3.8.8 ('base')",
   "language": "python",
   "name": "python3"
  },
  "language_info": {
   "codemirror_mode": {
    "name": "ipython",
    "version": 3
   },
   "file_extension": ".py",
   "mimetype": "text/x-python",
   "name": "python",
   "nbconvert_exporter": "python",
   "pygments_lexer": "ipython3",
   "version": "3.8.8"
  },
  "orig_nbformat": 4
 },
 "nbformat": 4,
 "nbformat_minor": 2
}
